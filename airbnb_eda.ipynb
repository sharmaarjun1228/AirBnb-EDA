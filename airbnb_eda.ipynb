{
  "nbformat": 4,
  "nbformat_minor": 0,
  "metadata": {
    "colab": {
      "private_outputs": true,
      "provenance": [],
      "collapsed_sections": [
        "PH-0ReGfmX4f",
        "bbFf2-_FphqN",
        "_ouA3fa0phqN",
        "Seke61FWphqN",
        "t27r6nlMphqO",
        "r2jJGEOYphqO",
        "b0JNsNcRphqO",
        "BZR9WyysphqO",
        "jj7wYXLtphqO",
        "eZrbJ2SmphqO",
        "rFu4xreNphqO",
        "YJ55k-q6phqO",
        "gCFgpxoyphqP",
        "OVtJsKN_phqQ",
        "lssrdh5qphqQ",
        "U2RJ9gkRphqQ",
        "1M8mcRywphqQ",
        "tgIPom80phqQ",
        "JMzcOPDDphqR",
        "x-EpHcCOp1ci",
        "X_VqEhTip1ck",
        "8zGJKyg5p1ck",
        "PVzmfK_Ep1ck",
        "n3dbpmDWp1ck",
        "ylSl6qgtp1ck",
        "ZWILFDl5p1ck",
        "M7G43BXep1ck",
        "Ag9LCva-p1cl",
        "E6MkPsBcp1cl",
        "2cELzS2fp1cl",
        "3MPXvC8up1cl"
      ],
      "include_colab_link": true
    },
    "kernelspec": {
      "name": "python3",
      "display_name": "Python 3"
    },
    "language_info": {
      "name": "python"
    }
  },
  "cells": [
    {
      "cell_type": "markdown",
      "metadata": {
        "id": "view-in-github",
        "colab_type": "text"
      },
      "source": [
        "<a href=\"https://colab.research.google.com/github/sharmaarjun1228/AirBnb-EDA/blob/main/airbnb_eda.ipynb\" target=\"_parent\"><img src=\"https://colab.research.google.com/assets/colab-badge.svg\" alt=\"Open In Colab\"/></a>"
      ]
    },
    {
      "cell_type": "markdown",
      "source": [
        "# **Project Name**    -AirBnb EDA\n",
        "\n"
      ],
      "metadata": {
        "id": "vncDsAP0Gaoa"
      }
    },
    {
      "cell_type": "markdown",
      "source": [
        "##### **Project Type**    - EDA AirBnb\n",
        "##### **Contribution**    - Individual\n",
        "##### **Team Member 1 -**ARJUN SHARMA\n"
      ],
      "metadata": {
        "id": "beRrZCGUAJYm"
      }
    },
    {
      "cell_type": "markdown",
      "source": [
        "# **Project Summary -**"
      ],
      "metadata": {
        "id": "FJNUwmbgGyua"
      }
    },
    {
      "cell_type": "markdown",
      "source": [
        "### Summary of Airbnb Bookings Analysis\n",
        "\n",
        "#### Project Overview\n",
        "The Airbnb Bookings Analysis aims to understand user preferences and trends in room types and neighborhood choices within New York City. The primary focus is to determine if private rooms are preferred over other room types and if the Manhattan neighborhood is more favored compared to other neighborhoods.\n",
        "\n",
        "#### Data Description\n",
        "The dataset includes information on various Airbnb listings, including details such as `id`, `name`, `host_id`, `host_name`, `neighbourhood_group`, `neighbourhood`, `latitude`, `longitude`, `room_type`, `price`, `minimum_nights`, `number_of_reviews`, `last_review`, `reviews_per_month`, `calculated_host_listings_count`, and `availability_365`.\n",
        "\n",
        "#### Data Cleaning and Preprocessing\n",
        "The initial step involved cleaning the dataset to handle missing values, convert data types, and remove duplicates. Missing values in the `reviews_per_month` column were filled with zeros, while the `last_review` dates were converted to datetime format, with missing dates filled with a placeholder date. Duplicate entries were removed to ensure data integrity, and the `price` column was converted to numeric format for further analysis.\n",
        "\n",
        "#### Descriptive Statistics and Visualizations\n",
        "Descriptive statistics provided an overview of the dataset, including measures of central tendency and dispersion for numerical variables. Visualizations were created to better understand the distribution of listings across room types and neighborhoods, as well as the relationship between price and room type, and the impact of reviews on pricing.\n",
        "\n",
        "1. **Room Type Distribution**\n",
        "   - A count plot of room types revealed that the most common room types are `Entire home/apt`, `Private room`, and `Shared room`. This analysis helped in determining whether private rooms are preferred over other room types.\n",
        "\n",
        "2. **Listings Distribution Across Neighborhoods**\n",
        "   - A count plot showing the distribution of listings across different neighborhoods highlighted which areas have the highest concentration of Airbnb listings. Manhattan, Brooklyn, Queens, Bronx, and Staten Island were compared to see which neighborhood is the most popular.\n",
        "\n",
        "3. **Price vs. Room Type**\n",
        "   - A box plot illustrating the relationship between room type and price provided insights into how different room types are priced. It was observed that `Entire home/apt` listings typically command higher prices compared to `Private room` and `Shared room` listings.\n",
        "\n",
        "4. **Reviews per Month vs. Price**\n",
        "   - A scatter plot showing the relationship between the number of reviews per month and the price of listings, with differentiation by room type, indicated that there is a notable interaction between reviews and pricing strategies.\n",
        "\n",
        "#### Insights and Conclusions\n",
        "Based on the analysis, several key insights were drawn:\n",
        "\n",
        "- **Room Type Preferences:** Private rooms are popular, but entire homes/apartments are the most listed type, suggesting a preference for more private and spacious accommodations among hosts and possibly guests.\n",
        "- **Neighborhood Preferences:** The count plot for neighborhood distribution showed that Manhattan has a significant number of listings, confirming its popularity among Airbnb users. Brooklyn also has a substantial number of listings, indicating it is another preferred area.\n",
        "- **Price Analysis:** Entire homes/apartments are priced higher than private and shared rooms, likely due to the additional space and amenities offered. This pricing strategy aligns with the different accommodation types' offerings and market demand.\n",
        "- **Reviews Impact:** Listings with more reviews tend to have varied pricing, but higher review counts can correlate with higher prices, especially for certain room types. This suggests that customer feedback and popularity can influence pricing decisions.\n",
        "\n",
        "#### Stakeholder Relevance\n",
        "This analysis provides valuable insights for various stakeholders:\n",
        "- **Hosts:** Can use the findings to optimize their listing types and pricing strategies based on market demand and competition.\n",
        "- **Guests:** Gain an understanding of pricing trends and popular areas, helping them make informed booking decisions.\n",
        "- **Airbnb Platform:** Insights into user preferences can help improve platform recommendations, marketing strategies, and overall user experience.\n",
        "\n",
        "The analysis confirmed initial assumptions about room type and neighborhood preferences, providing a comprehensive understanding of the Airbnb market dynamics in New York City. These insights are crucial for making data-driven decisions to enhance user satisfaction and maximize profitability."
      ],
      "metadata": {
        "id": "F6v_1wHtG2nS"
      }
    },
    {
      "cell_type": "markdown",
      "source": [
        "# **GitHub Link -**"
      ],
      "metadata": {
        "id": "w6K7xa23Elo4"
      }
    },
    {
      "cell_type": "markdown",
      "source": [
        "[Git Hub](https://gist.github.com/sharmaarjun1228/4790a965bbf20f6a74a3675f6df88a93)\n",
        "\n",
        "[LinkedIn](https://www.linkedin.com/in/arjun-sharma-714914221/)\n",
        "\n",
        "https://gist.github.com/sharmaarjun1228/4790a965bbf20f6a74a3675f6df88a93"
      ],
      "metadata": {
        "id": "h1o69JH3Eqqn"
      }
    },
    {
      "cell_type": "markdown",
      "source": [
        "# **Problem Statement**\n"
      ],
      "metadata": {
        "id": "yQaldy8SH6Dl"
      }
    },
    {
      "cell_type": "markdown",
      "source": [
        "**Write Problem Statement Here.**\n",
        "\n",
        "### Problem Statement\n",
        "\n",
        "The primary objective of this analysis is to gain a comprehensive understanding of user preferences and trends in Airbnb bookings within New York City. Specifically, the project aims to address the following questions:\n",
        "\n",
        "1. **Room Type Preference:** Are private rooms preferred over other room types (e.g., entire homes/apartments and shared rooms)?\n",
        "2. **Neighborhood Popularity:** Is the Manhattan neighborhood more favored compared to other neighborhoods such as Brooklyn, Queens, Bronx, and Staten Island?\n",
        "\n",
        "To achieve these objectives, the project will involve:\n",
        "- Analyzing the distribution of different room types across various neighborhoods.\n",
        "- Evaluating the pricing strategies associated with different room types.\n",
        "- Investigating the impact of reviews on the pricing and popularity of listings.\n",
        "- Drawing actionable insights that can be leveraged by Airbnb hosts, guests, and the platform itself to enhance decision-making processes and user experience.\n",
        "\n",
        "By addressing these questions, the analysis seeks to provide a data-driven understanding of the Airbnb market dynamics in New York City, which is essential for stakeholders to optimize their strategies and improve overall satisfaction and profitability."
      ],
      "metadata": {
        "id": "DpeJGUA3kjGy"
      }
    },
    {
      "cell_type": "markdown",
      "source": [
        "#### **Define Your Business Objective?**"
      ],
      "metadata": {
        "id": "PH-0ReGfmX4f"
      }
    },
    {
      "cell_type": "markdown",
      "source": [
        "Answer Here."
      ],
      "metadata": {
        "id": "PhDvGCAqmjP1"
      }
    },
    {
      "cell_type": "markdown",
      "source": [
        "# **General Guidelines** : -  "
      ],
      "metadata": {
        "id": "mDgbUHAGgjLW"
      }
    },
    {
      "cell_type": "markdown",
      "source": [
        "1.   Well-structured, formatted, and commented code is required.\n",
        "2.   Exception Handling, Production Grade Code & Deployment Ready Code will be a plus. Those students will be awarded some additional credits.\n",
        "     \n",
        "     The additional credits will have advantages over other students during Star Student selection.\n",
        "       \n",
        "             [ Note: - Deployment Ready Code is defined as, the whole .ipynb notebook should be executable in one go\n",
        "                       without a single error logged. ]\n",
        "\n",
        "3.   Each and every logic should have proper comments.\n",
        "4. You may add as many number of charts you want. Make Sure for each and every chart the following format should be answered.\n",
        "        \n",
        "\n",
        "```\n",
        "# Chart visualization code\n",
        "```\n",
        "            \n",
        "\n",
        "*   Why did you pick the specific chart?\n",
        "*   What is/are the insight(s) found from the chart?\n",
        "* Will the gained insights help creating a positive business impact?\n",
        "Are there any insights that lead to negative growth? Justify with specific reason.\n",
        "\n",
        "5. You have to create at least 20 logical & meaningful charts having important insights.\n",
        "\n",
        "\n",
        "[ Hints : - Do the Vizualization in  a structured way while following \"UBM\" Rule.\n",
        "\n",
        "U - Univariate Analysis,\n",
        "\n",
        "B - Bivariate Analysis (Numerical - Categorical, Numerical - Numerical, Categorical - Categorical)\n",
        "\n",
        "M - Multivariate Analysis\n",
        " ]\n",
        "\n",
        "\n",
        "\n"
      ],
      "metadata": {
        "id": "ZrxVaUj-hHfC"
      }
    },
    {
      "cell_type": "markdown",
      "source": [
        "# ***Let's Begin !***"
      ],
      "metadata": {
        "id": "O_i_v8NEhb9l"
      }
    },
    {
      "cell_type": "markdown",
      "source": [
        "## ***1. Know Your Data***"
      ],
      "metadata": {
        "id": "HhfV-JJviCcP"
      }
    },
    {
      "cell_type": "code",
      "source": [
        "from google.colab import drive\n",
        "drive.mount('/content/drive')"
      ],
      "metadata": {
        "id": "ujz-5eCiWwyt"
      },
      "execution_count": null,
      "outputs": []
    },
    {
      "cell_type": "markdown",
      "source": [
        "### Import Libraries"
      ],
      "metadata": {
        "id": "Y3lxredqlCYt"
      }
    },
    {
      "cell_type": "code",
      "source": [
        "# Import Libraries\n",
        "import pandas as pd\n",
        "import numpy as np\n",
        "import matplotlib.pyplot as plt\n",
        "import seaborn as sns"
      ],
      "metadata": {
        "id": "M8Vqi-pPk-HR"
      },
      "execution_count": null,
      "outputs": []
    },
    {
      "cell_type": "markdown",
      "source": [
        "### Dataset Loading"
      ],
      "metadata": {
        "id": "3RnN4peoiCZX"
      }
    },
    {
      "cell_type": "code",
      "source": [
        "# Load Dataset\n",
        "df=pd.read_csv('/content/Airbnb NYC 2019 (1).csv')"
      ],
      "metadata": {
        "id": "4CkvbW_SlZ_R"
      },
      "execution_count": null,
      "outputs": []
    },
    {
      "cell_type": "markdown",
      "source": [
        "### Dataset First View"
      ],
      "metadata": {
        "id": "x71ZqKXriCWQ"
      }
    },
    {
      "cell_type": "code",
      "source": [
        "# Dataset First Look\n",
        "df.head()"
      ],
      "metadata": {
        "id": "LWNFOSvLl09H"
      },
      "execution_count": null,
      "outputs": []
    },
    {
      "cell_type": "markdown",
      "source": [
        "### Dataset Rows & Columns count"
      ],
      "metadata": {
        "id": "7hBIi_osiCS2"
      }
    },
    {
      "cell_type": "code",
      "source": [
        "# Dataset Rows & Columns count\n",
        "df.shape"
      ],
      "metadata": {
        "id": "Kllu7SJgmLij"
      },
      "execution_count": null,
      "outputs": []
    },
    {
      "cell_type": "markdown",
      "source": [
        "### Dataset Information"
      ],
      "metadata": {
        "id": "JlHwYmJAmNHm"
      }
    },
    {
      "cell_type": "code",
      "source": [
        "# Dataset Info\n",
        "df.info()"
      ],
      "metadata": {
        "id": "e9hRXRi6meOf"
      },
      "execution_count": null,
      "outputs": []
    },
    {
      "cell_type": "markdown",
      "source": [
        "#### Duplicate Values"
      ],
      "metadata": {
        "id": "35m5QtbWiB9F"
      }
    },
    {
      "cell_type": "code",
      "source": [
        "# Dataset Duplicate Value Count\n",
        "df.duplicated().sum()\n"
      ],
      "metadata": {
        "id": "1sLdpKYkmox0"
      },
      "execution_count": null,
      "outputs": []
    },
    {
      "cell_type": "markdown",
      "source": [
        "#### Missing Values/Null Values"
      ],
      "metadata": {
        "id": "PoPl-ycgm1ru"
      }
    },
    {
      "cell_type": "code",
      "source": [
        "# Missing Values/Null Values Count\n",
        "df.isnull().sum()\n",
        "df.isna().sum()"
      ],
      "metadata": {
        "id": "GgHWkxvamxVg"
      },
      "execution_count": null,
      "outputs": []
    },
    {
      "cell_type": "code",
      "source": [
        "# Visualizing the missing values\n",
        "sns.heatmap(df.isnull())"
      ],
      "metadata": {
        "id": "3q5wnI3om9sJ"
      },
      "execution_count": null,
      "outputs": []
    },
    {
      "cell_type": "markdown",
      "source": [
        "### What did you know about your dataset?"
      ],
      "metadata": {
        "id": "H0kj-8xxnORC"
      }
    },
    {
      "cell_type": "markdown",
      "source": [
        " The dataset contains information on Airbnb listings in New York City.\n",
        "\n",
        " There are 48895 rows and 16 columns in the dataset.\n",
        "\n",
        " The columns include information such as id, name, host_id, host_name, neighbourhood_group, neighbourhood, latitude, longitude, room_type, price, minimum_nights, number_of_reviews, last_review, reviews_per_month, calculated_host_listings_count, and availability_365.\n",
        " There are 1242 duplicate rows in the dataset.\n",
        "\n",
        " There are missing values in the reviews_per_month column (3792 missing values) and the last_review column (10052 missing values).\n",
        "\n",
        " The missing values in the reviews_per_month column were filled with zeros, while the missing values in the last_review column were filled with a placeholder date.\n",
        "\n",
        " The following insights can be drawn from the data:\n",
        "\n",
        "- The most common room type is Entire home/apt, followed by Private room and Shared room.\n",
        "- The most popular neighborhood is Manhattan, followed by Brooklyn, Queens, Bronx, and Staten Island.\n",
        "- The average price of an Airbnb listing is $152.72.\n",
        "- The average number of reviews per month is 1.32.\n",
        "- The average number of calculated host listings is 7.14.\n",
        "- The average availability of an Airbnb listing is 112.78 days pr year.\n",
        "\n",
        "These insights can be used by Airbnb hosts, guests, and the platform itself to make informed decisions about listing types, pricing strategies, and marketing campaigns.\n"
      ],
      "metadata": {
        "id": "gfoNAAC-nUe_"
      }
    },
    {
      "cell_type": "markdown",
      "source": [
        "## ***2. Understanding Your Variables***"
      ],
      "metadata": {
        "id": "nA9Y7ga8ng1Z"
      }
    },
    {
      "cell_type": "code",
      "source": [
        "# Dataset Columns\n",
        "df.columns"
      ],
      "metadata": {
        "id": "j7xfkqrt5Ag5"
      },
      "execution_count": null,
      "outputs": []
    },
    {
      "cell_type": "code",
      "source": [
        "# Dataset Describe\n",
        "df.describe()"
      ],
      "metadata": {
        "id": "DnOaZdaE5Q5t"
      },
      "execution_count": null,
      "outputs": []
    },
    {
      "cell_type": "markdown",
      "source": [
        "### Variables Description"
      ],
      "metadata": {
        "id": "PBTbrJXOngz2"
      }
    },
    {
      "cell_type": "markdown",
      "source": [
        "* id: Unique identifier for each Airbnb listing.\n",
        "\n",
        "\n",
        "\n",
        "\n",
        " * name: Name of the Airbnb listing.\n",
        " * host_id: Unique identifier for the host of the Airbnb listing.\n",
        " * host_name: Name of the host of the Airbnb listing.\n",
        " * neighbourhood_group: The general area of the Airbnb listing.\n",
        " * neighbourhood: The specific neighbourhood of the Airbnb listing.\n",
        " * latitude: The latitude coordinate of the Airbnb listing.\n",
        " * longitude: The longitude coordinate of the Airbnb listing.\n",
        " * room_type: The type of room available for rent (e.g., Entire home/apt, Private room, Shared room).\n",
        " * price: The nightly price of the Airbnb listing.\n",
        " * minimum_nights: The minimum number of nights that a guest can stay at the Airbnb listing.\n",
        " * number_of_reviews: The number of reviews that the Airbnb listing has received.\n",
        " * last_review: The date of the last review that the Airbnb listing received.\n",
        " * reviews_per_month: The average number of reviews that the Airbnb listing receives per month.\n",
        " * calculated_host_listings_count: The number of Airbnb listings that the host has.\n",
        " * availability_365: The number of days that the Airbnb listing is available for rent in a 365-day period.\n",
        "\n",
        "# Insights:\n",
        "\n",
        " - The average price of an Airbnb listing in New York City is $152.72.\n",
        " - The most common room type is Entire home/apt, followed by Private room and Shared room.\n",
        " - The most popular neighbourhood is Manhattan, followed by Brooklyn, Queens, Bronx, and Staten Island.\n",
        " - The average number of reviews per month is 1.32.\n",
        " - The average number of calculated host listings is 7.14.\n",
        " - The average availability of an Airbnb listing is 112.78 days per year.\n",
        "\n",
        " These insights can be used by Airbnb hosts, guests, and the platform itself to make informed decisions about listing types, pricing strategies, and marketing campaigns.\n"
      ],
      "metadata": {
        "id": "aJV4KIxSnxay"
      }
    },
    {
      "cell_type": "markdown",
      "source": [
        "### Check Unique Values for each variable."
      ],
      "metadata": {
        "id": "u3PMJOP6ngxN"
      }
    },
    {
      "cell_type": "code",
      "source": [
        "# Check Unique Values for each variable.\n",
        "for i in df.columns:\n",
        "  print(i,df[i].unique())"
      ],
      "metadata": {
        "id": "zms12Yq5n-jE"
      },
      "execution_count": null,
      "outputs": []
    },
    {
      "cell_type": "markdown",
      "source": [
        "## 3. ***Data Wrangling***"
      ],
      "metadata": {
        "id": "dauF4eBmngu3"
      }
    },
    {
      "cell_type": "markdown",
      "source": [
        "### Data Wrangling Code"
      ],
      "metadata": {
        "id": "bKJF3rekwFvQ"
      }
    },
    {
      "cell_type": "code",
      "source": [
        "# Write your code to make your dataset analysis ready.\n",
        "# prompt: # Write your code to make your dataset analysis ready.\n",
        "\n",
        "# Drop the duplicate rows\n",
        "df.drop_duplicates(inplace=True)\n",
        "\n",
        "# Fill missing values in reviews_per_month with 0\n",
        "df['reviews_per_month'].fillna(0, inplace=True)\n",
        "\n",
        "# Fill missing values in last_review with a placeholder date\n",
        "df['last_review'].fillna('1900-01-01', inplace=True)\n",
        "\n",
        "# Convert last_review to datetime format\n",
        "df['last_review'] = pd.to_datetime(df['last_review'])\n",
        "\n"
      ],
      "metadata": {
        "id": "wk-9a2fpoLcV"
      },
      "execution_count": null,
      "outputs": []
    },
    {
      "cell_type": "code",
      "source": [
        "# Fill or drop missing values based on strategy\n",
        "df = df.fillna(method='ffill')"
      ],
      "metadata": {
        "id": "mtA5GpORc9Ye"
      },
      "execution_count": null,
      "outputs": []
    },
    {
      "cell_type": "code",
      "source": [
        "df['price']"
      ],
      "metadata": {
        "id": "vSjCCNZJdFo0"
      },
      "execution_count": null,
      "outputs": []
    },
    {
      "cell_type": "markdown",
      "source": [
        "### What all manipulations have you done and insights you found?"
      ],
      "metadata": {
        "id": "MSa1f5Uengrz"
      }
    },
    {
      "cell_type": "markdown",
      "source": [
        "Answer Here."
      ],
      "metadata": {
        "id": "LbyXE7I1olp8"
      }
    },
    {
      "cell_type": "markdown",
      "source": [
        "## ***4. Data Vizualization, Storytelling & Experimenting with charts : Understand the relationships between variables***"
      ],
      "metadata": {
        "id": "GF8Ens_Soomf"
      }
    },
    {
      "cell_type": "markdown",
      "source": [
        "#### Chart - 1"
      ],
      "metadata": {
        "id": "0wOQAZs5pc--"
      }
    },
    {
      "cell_type": "code",
      "source": [
        "# Chart - 1 visualization code\n",
        "# Distribution of prices\n",
        "plt.figure(figsize=(10, 6))\n",
        "sns.histplot(df['price'], bins=50, kde=True)\n",
        "plt.title('Distribution of Prices')\n",
        "plt.xlabel('Price')\n",
        "plt.ylabel('Frequency')\n",
        "plt.show()"
      ],
      "metadata": {
        "id": "7v_ESjsspbW7"
      },
      "execution_count": null,
      "outputs": []
    },
    {
      "cell_type": "markdown",
      "source": [
        "##### 1. Why did you pick the specific chart?"
      ],
      "metadata": {
        "id": "K5QZ13OEpz2H"
      }
    },
    {
      "cell_type": "markdown",
      "source": [
        "Histogram with KDE: This chart type is chosen to show the frequency distribution of prices along with the density estimation. The histogram reveals how prices are spread across the dataset, while the KDE plot overlays a smooth curve, making it easier to understand the distribution shape."
      ],
      "metadata": {
        "id": "XESiWehPqBRc"
      }
    },
    {
      "cell_type": "markdown",
      "source": [
        "##### 2. What is/are the insight(s) found from the chart?"
      ],
      "metadata": {
        "id": "lQ7QKXXCp7Bj"
      }
    },
    {
      "cell_type": "markdown",
      "source": [
        "# Insight:\n",
        " The price distribution might show a right-skewed pattern where most listings have prices clustered at the lower end, with a long tail extending towards higher prices. This suggests that while there are many affordable listings, there are also some very expensive ones."
      ],
      "metadata": {
        "id": "C_j1G7yiqdRP"
      }
    },
    {
      "cell_type": "markdown",
      "source": [
        "##### 3. Will the gained insights help creating a positive business impact?\n",
        "Are there any insights that lead to negative growth? Justify with specific reason."
      ],
      "metadata": {
        "id": "448CDAPjqfQr"
      }
    },
    {
      "cell_type": "markdown",
      "source": [
        "- Positive Impact: Understanding the price distribution helps hosts to competitively price their properties. For Airbnb, this can aid in market segmentation and targeted marketing strategies.\n",
        "\n",
        "- Negative Impact: If the market is overly saturated with low-priced listings, it might reduce profitability for hosts and could indicate a race to the bottom in terms of pricing."
      ],
      "metadata": {
        "id": "3cspy4FjqxJW"
      }
    },
    {
      "cell_type": "markdown",
      "source": [
        "#### Chart - 2"
      ],
      "metadata": {
        "id": "KSlN3yHqYklG"
      }
    },
    {
      "cell_type": "code",
      "source": [
        "# Chart - 2 visualization code\n",
        "# Room type distribution\n",
        "plt.figure(figsize=(10, 6))\n",
        "sns.countplot(data=df, x='room_type')\n",
        "plt.title('Room Type Distribution')\n",
        "plt.xlabel('Room Type')\n",
        "plt.ylabel('Count')\n",
        "plt.show()"
      ],
      "metadata": {
        "id": "R4YgtaqtYklH"
      },
      "execution_count": null,
      "outputs": []
    },
    {
      "cell_type": "markdown",
      "source": [
        "##### 1. Why did you pick the specific chart?"
      ],
      "metadata": {
        "id": "t6dVpIINYklI"
      }
    },
    {
      "cell_type": "markdown",
      "source": [
        "**Countplot:** This chart is ideal for showing the count of categorical variables. It helps in visualizing the frequency of different room types offered in the dataset."
      ],
      "metadata": {
        "id": "5aaW0BYyYklI"
      }
    },
    {
      "cell_type": "markdown",
      "source": [
        "##### 2. What is/are the insight(s) found from the chart?"
      ],
      "metadata": {
        "id": "ijmpgYnKYklI"
      }
    },
    {
      "cell_type": "markdown",
      "source": [
        "**Insight:**\n",
        "\n",
        "The chart will show which room type (e.g., Private room, Entire home/apt, Shared room) is most commonly listed. This helps in understanding market preferences."
      ],
      "metadata": {
        "id": "PSx9atu2YklI"
      }
    },
    {
      "cell_type": "markdown",
      "source": [
        "##### 3. Will the gained insights help creating a positive business impact?\n",
        "Are there any insights that lead to negative growth? Justify with specific reason."
      ],
      "metadata": {
        "id": "-JiQyfWJYklI"
      }
    },
    {
      "cell_type": "markdown",
      "source": [
        "- Positive Impact: Knowing the popular room types can help hosts decide what kind of space to offer. Airbnb can also use this information for inventory management and marketing.\n",
        "\n",
        "- Negative Impact: Over-reliance on a particular room type might lead to market saturation, potentially reducing the diversity of options available to guests."
      ],
      "metadata": {
        "id": "BcBbebzrYklV"
      }
    },
    {
      "cell_type": "markdown",
      "source": [
        "#### Chart - 3"
      ],
      "metadata": {
        "id": "EM7whBJCYoAo"
      }
    },
    {
      "cell_type": "code",
      "source": [
        "# Chart - 3 visualization code\n",
        "# Price vs. Room Type\n",
        "plt.figure(figsize=(10, 6))\n",
        "sns.boxplot(data=df, x='room_type', y='price')\n",
        "plt.title('Price vs. Room Type')\n",
        "plt.xlabel('Room Type')\n",
        "plt.ylabel('Price')\n",
        "plt.show()"
      ],
      "metadata": {
        "id": "t6GMdE67YoAp"
      },
      "execution_count": null,
      "outputs": []
    },
    {
      "cell_type": "markdown",
      "source": [
        "##### 1. Why did you pick the specific chart?"
      ],
      "metadata": {
        "id": "fge-S5ZAYoAp"
      }
    },
    {
      "cell_type": "markdown",
      "source": [
        "**Boxplot:**\n",
        "\n",
        " This chart effectively displays the range, median, and quartiles of prices across different room types, highlighting the spread and any outliers."
      ],
      "metadata": {
        "id": "5dBItgRVYoAp"
      }
    },
    {
      "cell_type": "markdown",
      "source": [
        "##### 2. What is/are the insight(s) found from the chart?"
      ],
      "metadata": {
        "id": "85gYPyotYoAp"
      }
    },
    {
      "cell_type": "markdown",
      "source": [
        "**Insight:**\n",
        "\n",
        "The boxplot will reveal the pricing differences between room types, showing which types generally command higher prices and the variability within each type."
      ],
      "metadata": {
        "id": "4jstXR6OYoAp"
      }
    },
    {
      "cell_type": "markdown",
      "source": [
        "##### 3. Will the gained insights help creating a positive business impact?\n",
        "Are there any insights that lead to negative growth? Justify with specific reason."
      ],
      "metadata": {
        "id": "RoGjAbkUYoAp"
      }
    },
    {
      "cell_type": "markdown",
      "source": [
        "- Positive Impact: Hosts can better understand the pricing landscape and adjust their prices accordingly. Airbnb can tailor their platform to emphasize higher revenue-generating room types.\n",
        "\n",
        "- Negative Impact: High variability in prices within the same room type could confuse guests and make pricing strategies complex for hosts."
      ],
      "metadata": {
        "id": "zfJ8IqMcYoAp"
      }
    },
    {
      "cell_type": "markdown",
      "source": [
        "#### Chart - 4"
      ],
      "metadata": {
        "id": "4Of9eVA-YrdM"
      }
    },
    {
      "cell_type": "code",
      "source": [
        "# Chart - 4 visualization code\n",
        "# Reviews per month vs. Price\n",
        "plt.figure(figsize=(10, 6))\n",
        "sns.scatterplot(data=df, x='reviews_per_month', y='price', hue='room_type')\n",
        "plt.title('Reviews per Month vs. Price')\n",
        "plt.xlabel('Reviews per Month')\n",
        "plt.ylabel('Price')\n",
        "plt.show()\n",
        "\n",
        "\n"
      ],
      "metadata": {
        "id": "irlUoxc8YrdO"
      },
      "execution_count": null,
      "outputs": []
    },
    {
      "cell_type": "markdown",
      "source": [
        "##### 1. Why did you pick the specific chart?"
      ],
      "metadata": {
        "id": "iky9q4vBYrdO"
      }
    },
    {
      "cell_type": "markdown",
      "source": [
        "**Scatterplot**:\n",
        "\n",
        " This chart type shows the relationship between two continuous variables (reviews per month and price) and highlights differences by room type through color coding.\n"
      ],
      "metadata": {
        "id": "aJRCwT6DYrdO"
      }
    },
    {
      "cell_type": "markdown",
      "source": [
        "##### 2. What is/are the insight(s) found from the chart?"
      ],
      "metadata": {
        "id": "F6T5p64dYrdO"
      }
    },
    {
      "cell_type": "markdown",
      "source": [
        "\n",
        "**Insight:**\n",
        "\n",
        "The scatterplot might show whether there is a correlation between the number of reviews and the price, indicating if higher-priced listings receive more or fewer reviews, and how this varies by room type.\n"
      ],
      "metadata": {
        "id": "Xx8WAJvtYrdO"
      }
    },
    {
      "cell_type": "markdown",
      "source": [
        "##### 3. Will the gained insights help creating a positive business impact?\n",
        "Are there any insights that lead to negative growth? Justify with specific reason."
      ],
      "metadata": {
        "id": "y-Ehk30pYrdP"
      }
    },
    {
      "cell_type": "markdown",
      "source": [
        "\n",
        "- Positive Impact: Identifying the relationship between reviews and pricing helps hosts to balance between pricing and customer satisfaction. Airbnb can optimize their algorithms to promote listings with optimal price-review balance.\n",
        "- Negative Impact: A negative correlation (higher prices leading to fewer reviews) could suggest pricing adjustments are needed to maintain guest interest and satisfaction."
      ],
      "metadata": {
        "id": "jLNxxz7MYrdP"
      }
    },
    {
      "cell_type": "markdown",
      "source": [
        "#### Chart - 5"
      ],
      "metadata": {
        "id": "bamQiAODYuh1"
      }
    },
    {
      "cell_type": "code",
      "source": [
        "# Chart - 5 visualization code\n",
        "# Listings distribution across neighborhoods\n",
        "plt.figure(figsize=(14, 8))\n",
        "sns.countplot(data=df, x='neighbourhood_group', order=df['neighbourhood_group'].value_counts().index)\n",
        "plt.title('Listings Distribution Across Neighborhoods')\n",
        "plt.xlabel('Neighborhood Group')\n",
        "plt.ylabel('Count')\n",
        "plt.xticks(rotation=90)\n",
        "plt.show()"
      ],
      "metadata": {
        "id": "TIJwrbroYuh3"
      },
      "execution_count": null,
      "outputs": []
    },
    {
      "cell_type": "markdown",
      "source": [
        "##### 1. Why did you pick the specific chart?"
      ],
      "metadata": {
        "id": "QHF8YVU7Yuh3"
      }
    },
    {
      "cell_type": "markdown",
      "source": [
        "**Countplot:**\n",
        "\n",
        "This chart is suitable for showing the frequency distribution of listings across different neighborhoods, providing a clear comparison."
      ],
      "metadata": {
        "id": "dcxuIMRPYuh3"
      }
    },
    {
      "cell_type": "markdown",
      "source": [
        "##### 2. What is/are the insight(s) found from the chart?"
      ],
      "metadata": {
        "id": "GwzvFGzlYuh3"
      }
    },
    {
      "cell_type": "markdown",
      "source": [
        "**Insight:**\n",
        "\n",
        "The chart will highlight which neighborhoods have the most or fewest listings, indicating popular areas and potential gaps in the market."
      ],
      "metadata": {
        "id": "uyqkiB8YYuh3"
      }
    },
    {
      "cell_type": "markdown",
      "source": [
        "##### 3. Will the gained insights help creating a positive business impact?\n",
        "Are there any insights that lead to negative growth? Justify with specific reason."
      ],
      "metadata": {
        "id": "qYpmQ266Yuh3"
      }
    },
    {
      "cell_type": "markdown",
      "source": [
        "- Positive Impact: Hosts can identify underrepresented neighborhoods to potentially list their properties. Airbnb can use this to balance supply and demand across the city.\n",
        "\n",
        "- Negative Impact: An over-concentration in certain neighborhoods might lead to increased competition and reduced visibility for individual listings."
      ],
      "metadata": {
        "id": "_WtzZ_hCYuh4"
      }
    },
    {
      "cell_type": "markdown",
      "source": [
        "#### Chart - 6"
      ],
      "metadata": {
        "id": "OH-pJp9IphqM"
      }
    },
    {
      "cell_type": "code",
      "source": [
        "# Chart - 6 visualization code"
      ],
      "metadata": {
        "id": "kuRf4wtuphqN"
      },
      "execution_count": null,
      "outputs": []
    },
    {
      "cell_type": "code",
      "source": [
        "# prompt: create a map vizual use latitude and longitude given in dataset\n",
        "\n",
        "import folium\n",
        "\n",
        "# Create a map object with initial location and zoom level\n",
        "map = folium.Map(location=[df['latitude'].mean(), df['longitude'].mean()], zoom_start=12)\n",
        "\n",
        "# Add markers for each Airbnb listing\n",
        "for _, row in df.iterrows():\n",
        "    marker = folium.CircleMarker(location=[row['latitude'], row['longitude']], radius=5)\n",
        "    folium.Popup(f\"<b>{row['name']}</b><br>Price: ${row['price']}\", parse_html=True).add_to(marker)\n",
        "    map.add_child(marker)\n",
        "\n",
        "# Display the map\n",
        "map\n"
      ],
      "metadata": {
        "id": "iYqWy-B_pAWt"
      },
      "execution_count": null,
      "outputs": []
    },
    {
      "cell_type": "markdown",
      "source": [
        "##### 1. Why did you pick the specific chart?"
      ],
      "metadata": {
        "id": "bbFf2-_FphqN"
      }
    },
    {
      "cell_type": "markdown",
      "source": [
        "Answer Here."
      ],
      "metadata": {
        "id": "loh7H2nzphqN"
      }
    },
    {
      "cell_type": "markdown",
      "source": [
        "##### 2. What is/are the insight(s) found from the chart?"
      ],
      "metadata": {
        "id": "_ouA3fa0phqN"
      }
    },
    {
      "cell_type": "markdown",
      "source": [
        "Answer Here"
      ],
      "metadata": {
        "id": "VECbqPI7phqN"
      }
    },
    {
      "cell_type": "markdown",
      "source": [
        "##### 3. Will the gained insights help creating a positive business impact?\n",
        "Are there any insights that lead to negative growth? Justify with specific reason."
      ],
      "metadata": {
        "id": "Seke61FWphqN"
      }
    },
    {
      "cell_type": "markdown",
      "source": [
        "Answer Here"
      ],
      "metadata": {
        "id": "DW4_bGpfphqN"
      }
    },
    {
      "cell_type": "markdown",
      "source": [
        "#### Chart - 7"
      ],
      "metadata": {
        "id": "PIIx-8_IphqN"
      }
    },
    {
      "cell_type": "code",
      "source": [
        "# Chart - 7 visualization code\n",
        "# Pie chart for room_type\n",
        "room_type_counts = df['room_type'].value_counts()\n",
        "plt.figure(figsize=(10, 6))\n",
        "plt.pie(room_type_counts, labels=room_type_counts.index, autopct='%1.1f%%', startangle=140)\n",
        "plt.title('Distribution of Room Types')\n",
        "plt.show()\n",
        "\n",
        "# Pie chart for neighbourhood_group\n",
        "neighbourhood_group_counts = df['neighbourhood_group'].value_counts()\n",
        "plt.figure(figsize=(10, 6))\n",
        "plt.pie(neighbourhood_group_counts, labels=neighbourhood_group_counts.index, autopct='%1.1f%%', startangle=140)\n",
        "plt.title('Distribution of Neighbourhood Groups')\n",
        "plt.show()"
      ],
      "metadata": {
        "id": "lqAIGUfyphqO"
      },
      "execution_count": null,
      "outputs": []
    },
    {
      "cell_type": "markdown",
      "source": [
        "##### 1. Why did you pick the specific chart?"
      ],
      "metadata": {
        "id": "t27r6nlMphqO"
      }
    },
    {
      "cell_type": "markdown",
      "source": [
        "Answer Here."
      ],
      "metadata": {
        "id": "iv6ro40sphqO"
      }
    },
    {
      "cell_type": "markdown",
      "source": [
        "##### 2. What is/are the insight(s) found from the chart?"
      ],
      "metadata": {
        "id": "r2jJGEOYphqO"
      }
    },
    {
      "cell_type": "markdown",
      "source": [
        "Answer Here"
      ],
      "metadata": {
        "id": "Po6ZPi4hphqO"
      }
    },
    {
      "cell_type": "markdown",
      "source": [
        "##### 3. Will the gained insights help creating a positive business impact?\n",
        "Are there any insights that lead to negative growth? Justify with specific reason."
      ],
      "metadata": {
        "id": "b0JNsNcRphqO"
      }
    },
    {
      "cell_type": "markdown",
      "source": [
        "Answer Here"
      ],
      "metadata": {
        "id": "xvSq8iUTphqO"
      }
    },
    {
      "cell_type": "markdown",
      "source": [
        "#### Chart - 8"
      ],
      "metadata": {
        "id": "BZR9WyysphqO"
      }
    },
    {
      "cell_type": "code",
      "source": [
        "# Chart - 8 visualization code"
      ],
      "metadata": {
        "id": "TdPTWpAVphqO"
      },
      "execution_count": null,
      "outputs": []
    },
    {
      "cell_type": "markdown",
      "source": [
        "##### 1. Why did you pick the specific chart?"
      ],
      "metadata": {
        "id": "jj7wYXLtphqO"
      }
    },
    {
      "cell_type": "markdown",
      "source": [
        "Answer Here."
      ],
      "metadata": {
        "id": "Ob8u6rCTphqO"
      }
    },
    {
      "cell_type": "markdown",
      "source": [
        "##### 2. What is/are the insight(s) found from the chart?"
      ],
      "metadata": {
        "id": "eZrbJ2SmphqO"
      }
    },
    {
      "cell_type": "markdown",
      "source": [
        "Answer Here"
      ],
      "metadata": {
        "id": "mZtgC_hjphqO"
      }
    },
    {
      "cell_type": "markdown",
      "source": [
        "##### 3. Will the gained insights help creating a positive business impact?\n",
        "Are there any insights that lead to negative growth? Justify with specific reason."
      ],
      "metadata": {
        "id": "rFu4xreNphqO"
      }
    },
    {
      "cell_type": "markdown",
      "source": [
        "Answer Here"
      ],
      "metadata": {
        "id": "ey_0qi68phqO"
      }
    },
    {
      "cell_type": "markdown",
      "source": [
        "#### Chart - 9"
      ],
      "metadata": {
        "id": "YJ55k-q6phqO"
      }
    },
    {
      "cell_type": "code",
      "source": [
        "# Chart - 9 visualization code"
      ],
      "metadata": {
        "id": "B2aS4O1ophqO"
      },
      "execution_count": null,
      "outputs": []
    },
    {
      "cell_type": "markdown",
      "source": [
        "##### 1. Why did you pick the specific chart?"
      ],
      "metadata": {
        "id": "gCFgpxoyphqP"
      }
    },
    {
      "cell_type": "markdown",
      "source": [
        "Answer Here."
      ],
      "metadata": {
        "id": "TVxDimi2phqP"
      }
    },
    {
      "cell_type": "markdown",
      "source": [
        "##### 2. What is/are the insight(s) found from the chart?"
      ],
      "metadata": {
        "id": "OVtJsKN_phqQ"
      }
    },
    {
      "cell_type": "markdown",
      "source": [
        "Answer Here"
      ],
      "metadata": {
        "id": "ngGi97qjphqQ"
      }
    },
    {
      "cell_type": "markdown",
      "source": [
        "##### 3. Will the gained insights help creating a positive business impact?\n",
        "Are there any insights that lead to negative growth? Justify with specific reason."
      ],
      "metadata": {
        "id": "lssrdh5qphqQ"
      }
    },
    {
      "cell_type": "markdown",
      "source": [
        "Answer Here"
      ],
      "metadata": {
        "id": "tBpY5ekJphqQ"
      }
    },
    {
      "cell_type": "markdown",
      "source": [
        "#### Chart - 10"
      ],
      "metadata": {
        "id": "U2RJ9gkRphqQ"
      }
    },
    {
      "cell_type": "code",
      "source": [
        "# Chart - 10 visualization code"
      ],
      "metadata": {
        "id": "GM7a4YP4phqQ"
      },
      "execution_count": null,
      "outputs": []
    },
    {
      "cell_type": "markdown",
      "source": [
        "##### 1. Why did you pick the specific chart?"
      ],
      "metadata": {
        "id": "1M8mcRywphqQ"
      }
    },
    {
      "cell_type": "markdown",
      "source": [
        "Answer Here."
      ],
      "metadata": {
        "id": "8agQvks0phqQ"
      }
    },
    {
      "cell_type": "markdown",
      "source": [
        "##### 2. What is/are the insight(s) found from the chart?"
      ],
      "metadata": {
        "id": "tgIPom80phqQ"
      }
    },
    {
      "cell_type": "markdown",
      "source": [
        "Answer Here"
      ],
      "metadata": {
        "id": "Qp13pnNzphqQ"
      }
    },
    {
      "cell_type": "markdown",
      "source": [
        "##### 3. Will the gained insights help creating a positive business impact?\n",
        "Are there any insights that lead to negative growth? Justify with specific reason."
      ],
      "metadata": {
        "id": "JMzcOPDDphqR"
      }
    },
    {
      "cell_type": "markdown",
      "source": [
        "Answer Here"
      ],
      "metadata": {
        "id": "R4Ka1PC2phqR"
      }
    },
    {
      "cell_type": "markdown",
      "source": [
        "#### Chart - 11"
      ],
      "metadata": {
        "id": "x-EpHcCOp1ci"
      }
    },
    {
      "cell_type": "code",
      "source": [
        "# Chart - 11 visualization code"
      ],
      "metadata": {
        "id": "mAQTIvtqp1cj"
      },
      "execution_count": null,
      "outputs": []
    },
    {
      "cell_type": "markdown",
      "source": [
        "##### 1. Why did you pick the specific chart?"
      ],
      "metadata": {
        "id": "X_VqEhTip1ck"
      }
    },
    {
      "cell_type": "markdown",
      "source": [
        "Answer Here."
      ],
      "metadata": {
        "id": "-vsMzt_np1ck"
      }
    },
    {
      "cell_type": "markdown",
      "source": [
        "##### 2. What is/are the insight(s) found from the chart?"
      ],
      "metadata": {
        "id": "8zGJKyg5p1ck"
      }
    },
    {
      "cell_type": "markdown",
      "source": [
        "Answer Here"
      ],
      "metadata": {
        "id": "ZYdMsrqVp1ck"
      }
    },
    {
      "cell_type": "markdown",
      "source": [
        "##### 3. Will the gained insights help creating a positive business impact?\n",
        "Are there any insights that lead to negative growth? Justify with specific reason."
      ],
      "metadata": {
        "id": "PVzmfK_Ep1ck"
      }
    },
    {
      "cell_type": "markdown",
      "source": [
        "Answer Here"
      ],
      "metadata": {
        "id": "druuKYZpp1ck"
      }
    },
    {
      "cell_type": "markdown",
      "source": [
        "#### Chart - 12"
      ],
      "metadata": {
        "id": "n3dbpmDWp1ck"
      }
    },
    {
      "cell_type": "code",
      "source": [
        "# Chart - 12 visualization code"
      ],
      "metadata": {
        "id": "bwevp1tKp1ck"
      },
      "execution_count": null,
      "outputs": []
    },
    {
      "cell_type": "markdown",
      "source": [
        "##### 1. Why did you pick the specific chart?"
      ],
      "metadata": {
        "id": "ylSl6qgtp1ck"
      }
    },
    {
      "cell_type": "markdown",
      "source": [
        "Answer Here."
      ],
      "metadata": {
        "id": "m2xqNkiQp1ck"
      }
    },
    {
      "cell_type": "markdown",
      "source": [
        "##### 2. What is/are the insight(s) found from the chart?"
      ],
      "metadata": {
        "id": "ZWILFDl5p1ck"
      }
    },
    {
      "cell_type": "markdown",
      "source": [
        "Answer Here"
      ],
      "metadata": {
        "id": "x-lUsV2mp1ck"
      }
    },
    {
      "cell_type": "markdown",
      "source": [
        "##### 3. Will the gained insights help creating a positive business impact?\n",
        "Are there any insights that lead to negative growth? Justify with specific reason."
      ],
      "metadata": {
        "id": "M7G43BXep1ck"
      }
    },
    {
      "cell_type": "markdown",
      "source": [
        "Answer Here"
      ],
      "metadata": {
        "id": "5wwDJXsLp1cl"
      }
    },
    {
      "cell_type": "markdown",
      "source": [
        "#### Chart - 13"
      ],
      "metadata": {
        "id": "Ag9LCva-p1cl"
      }
    },
    {
      "cell_type": "code",
      "source": [
        "# Chart - 13 visualization code"
      ],
      "metadata": {
        "id": "EUfxeq9-p1cl"
      },
      "execution_count": null,
      "outputs": []
    },
    {
      "cell_type": "markdown",
      "source": [
        "##### 1. Why did you pick the specific chart?"
      ],
      "metadata": {
        "id": "E6MkPsBcp1cl"
      }
    },
    {
      "cell_type": "markdown",
      "source": [
        "Answer Here."
      ],
      "metadata": {
        "id": "V22bRsFWp1cl"
      }
    },
    {
      "cell_type": "markdown",
      "source": [
        "##### 2. What is/are the insight(s) found from the chart?"
      ],
      "metadata": {
        "id": "2cELzS2fp1cl"
      }
    },
    {
      "cell_type": "markdown",
      "source": [
        "Answer Here"
      ],
      "metadata": {
        "id": "ozQPc2_Ip1cl"
      }
    },
    {
      "cell_type": "markdown",
      "source": [
        "##### 3. Will the gained insights help creating a positive business impact?\n",
        "Are there any insights that lead to negative growth? Justify with specific reason."
      ],
      "metadata": {
        "id": "3MPXvC8up1cl"
      }
    },
    {
      "cell_type": "markdown",
      "source": [
        "Answer Here"
      ],
      "metadata": {
        "id": "GL8l1tdLp1cl"
      }
    },
    {
      "cell_type": "markdown",
      "source": [
        "#### Chart - 14 - Correlation Heatmap"
      ],
      "metadata": {
        "id": "NC_X3p0fY2L0"
      }
    },
    {
      "cell_type": "code",
      "source": [
        "# Load your DataFrame (assuming you have it loaded as 'df')\n",
        "# Convert 'price' and other relevant columns to numeric, errors='coerce' will replace non-numeric values with NaN\n",
        "df['price'] = pd.to_numeric(df['price'], errors='coerce')\n",
        "df['minimum_nights'] = pd.to_numeric(df['minimum_nights'], errors='coerce')\n",
        "df['number_of_reviews'] = pd.to_numeric(df['number_of_reviews'], errors='coerce')\n",
        "df['reviews_per_month'] = pd.to_numeric(df['reviews_per_month'], errors='coerce')\n",
        "df['availability_365'] = pd.to_numeric(df['availability_365'], errors='coerce')\n",
        "\n",
        "# Drop rows with NaN values in any of the important columns\n",
        "df = df.dropna(subset=['price', 'minimum_nights', 'number_of_reviews', 'reviews_per_month', 'availability_365'])"
      ],
      "metadata": {
        "id": "KpLyO8C5kqkb"
      },
      "execution_count": null,
      "outputs": []
    },
    {
      "cell_type": "code",
      "source": [
        "# Correlation Heatmap visualization code\n",
        "plt.figure(figsize=(14, 8))\n",
        "corr_matrix = df[['price', 'minimum_nights', 'number_of_reviews', 'reviews_per_month', 'availability_365']].corr()\n",
        "sns.heatmap(corr_matrix, annot=True, cmap='coolwarm', vmin=-1, vmax=1)\n",
        "plt.title('Correlation Heatmap')\n",
        "plt.show()"
      ],
      "metadata": {
        "id": "xyC9zolEZNRQ"
      },
      "execution_count": null,
      "outputs": []
    },
    {
      "cell_type": "markdown",
      "source": [
        "##### 1. Why did you pick the specific chart?"
      ],
      "metadata": {
        "id": "UV0SzAkaZNRQ"
      }
    },
    {
      "cell_type": "markdown",
      "source": [
        "**Correlation Heatmap:**\n",
        "\n",
        "- Reason: A heatmap is ideal for visualizing correlations between multiple numeric variables. It uses color intensity to indicate the strength and direction of relationships, providing a clear and intuitive representation of the data."
      ],
      "metadata": {
        "id": "DVPuT8LYZNRQ"
      }
    },
    {
      "cell_type": "markdown",
      "source": [
        "##### 2. What is/are the insight(s) found from the chart?"
      ],
      "metadata": {
        "id": "YPEH6qLeZNRQ"
      }
    },
    {
      "cell_type": "markdown",
      "source": [
        "**Insight:**\n",
        "\n",
        "The heatmap reveals correlations between variables like price, minimum_nights, number_of_reviews, reviews_per_month, and availability_365. For instance, price might show a positive correlation with minimum_nights and a negative correlation with availability_365."
      ],
      "metadata": {
        "id": "bfSqtnDqZNRR"
      }
    },
    {
      "cell_type": "markdown",
      "source": [
        "#### Chart - 15 - Pair Plot"
      ],
      "metadata": {
        "id": "q29F0dvdveiT"
      }
    },
    {
      "cell_type": "code",
      "source": [
        "# Pair Plot visualization code\n",
        "sns.pairplot(df, vars=['price', 'minimum_nights', 'number_of_reviews', 'reviews_per_month', 'availability_365'], hue='room_type')\n",
        "plt.title('Pair Plot of Key Variables')\n",
        "plt.show()\n"
      ],
      "metadata": {
        "id": "o58-TEIhveiU"
      },
      "execution_count": null,
      "outputs": []
    },
    {
      "cell_type": "markdown",
      "source": [
        "##### 1. Why did you pick the specific chart?"
      ],
      "metadata": {
        "id": "EXh0U9oCveiU"
      }
    },
    {
      "cell_type": "markdown",
      "source": [
        "**Pair Plot:**\n",
        "\n",
        "Reason: A pair plot visualizes the pairwise relationships between multiple variables along with their distributions. It also allows differentiation by categories (room type), offering a comprehensive overview of the data structure and potential interactions between variables."
      ],
      "metadata": {
        "id": "eMmPjTByveiU"
      }
    },
    {
      "cell_type": "markdown",
      "source": [
        "##### 2. What is/are the insight(s) found from the chart?"
      ],
      "metadata": {
        "id": "22aHeOlLveiV"
      }
    },
    {
      "cell_type": "markdown",
      "source": [
        "**Insight:**\n",
        "\n",
        "The pair plot shows the distributions and relationships between the same set of variables, segmented by room_type. It can highlight trends like higher prices being associated with certain room types or the spread of reviews across different room types."
      ],
      "metadata": {
        "id": "uPQ8RGwHveiV"
      }
    },
    {
      "cell_type": "markdown",
      "source": [
        "## **5. Solution to Business Objective**"
      ],
      "metadata": {
        "id": "JcMwzZxoAimU"
      }
    },
    {
      "cell_type": "markdown",
      "source": [
        "#### What do you suggest the client to achieve Business Objective ?\n",
        "Explain Briefly."
      ],
      "metadata": {
        "id": "8G2x9gOozGDZ"
      }
    },
    {
      "cell_type": "markdown",
      "source": [
        "Based on our exploratory data analysis (EDA) of the Airbnb dataset, here are several suggestions for the client to achieve their business objectives.\n",
        "\n",
        "These recommendations focus on **optimizing pricing strategies, improving listings, and enhancing customer satisfaction,** which are crucial for maximizing occupancy and revenue.\n",
        "\n",
        "### Key Recommendations:\n",
        "\n",
        "#### 1. **Optimize Pricing Strategy**\n",
        "- **Dynamic Pricing**: Implement a dynamic pricing strategy that adjusts prices based on demand, seasonality, and local events. For example, prices can be higher during peak tourist seasons and lower during off-peak times.\n",
        "- **Price Adjustment by Room Type and Location**: Use insights from the room type and neighborhood analysis to set competitive prices. For instance, entire homes/apartments in popular neighborhoods like Manhattan can be priced higher due to higher demand, while private rooms in less popular neighborhoods can be priced lower to attract budget-conscious travelers.\n",
        "\n",
        "#### 2. **Improve Minimum Night Stay Policies**\n",
        "- **Adjust Minimum Nights Based on Demand**: Analyze the relationship between minimum nights and booking frequency. If shorter stays (1-2 nights) show high demand, consider reducing the minimum night stay requirement to capture more bookings, especially during off-peak periods.\n",
        "- **Promotional Offers**: Offer discounts for longer stays (e.g., weekly or monthly rates) to attract guests planning extended visits.\n",
        "\n",
        "#### 3. **Enhance Listing Quality**\n",
        "- **High-Quality Photos and Detailed Descriptions**: Ensure all listings have high-resolution photos and detailed, engaging descriptions. Highlight unique features and amenities that can attract more guests.\n",
        "- **Consistent Review Management**: Encourage guests to leave reviews and promptly address any negative feedback. High review counts and positive ratings can significantly boost the attractiveness of a listing.\n",
        "\n",
        "#### 4. **Leverage Reviews and Ratings**\n",
        "- **Monitor and Respond to Reviews**: Regularly monitor guest reviews and respond to both positive and negative feedback. Addressing issues mentioned in reviews can lead to better guest satisfaction and improved ratings.\n",
        "- **Use Reviews for Improvement**: Analyze review content to identify common issues or frequently praised aspects. Use this feedback to make targeted improvements to the listings.\n",
        "\n",
        "#### 5. **Targeted Marketing and Promotions**\n",
        "- **Segmented Marketing Campaigns**: Use the data on room types and neighborhoods to create targeted marketing campaigns. For example, promote luxury apartments in upscale neighborhoods to high-income travelers and budget-friendly rooms to backpackers.\n",
        "- **Seasonal Promotions**: Offer special promotions and discounts during low-demand periods to boost occupancy rates.\n",
        "\n",
        "#### 6. **Availability Management**\n",
        "- **Optimize Calendar Availability**: Adjust availability settings based on demand patterns. Ensure that high-demand periods are open for bookings well in advance, and consider closing off low-demand dates for maintenance or improvements.\n",
        "- **Avoid Overbooking**: Use availability data to prevent overbooking, which can lead to negative guest experiences and reviews.\n",
        "\n",
        "#### 7. **Data-Driven Decision Making**\n",
        "- **Continuous Data Monitoring**: Regularly monitor key metrics such as occupancy rates, average price per night, and guest reviews. Use this data to make informed decisions and adjust strategies as needed.\n",
        "- **Predictive Analytics**: Implement predictive analytics to forecast demand trends and adjust pricing and availability accordingly.\n",
        "\n",
        "### Insights Supporting Recommendations:\n",
        "\n",
        "1. **Distribution of Prices**: The histogram shows the range and frequency of prices, helping to identify optimal pricing ranges.\n",
        "2. **Room Type Distribution**: The count plot of room types shows the most common types of listings, helping to understand market supply.\n",
        "3. **Price vs. Room Type**: The box plot highlights the price variations across different room types, indicating which types command higher prices.\n",
        "4. **Reviews per Month vs. Price**: The scatter plot reveals how reviews per month correlate with price, indicating how guest engagement might impact pricing.\n",
        "5. **Listings Distribution Across Neighborhoods**: The count plot shows which neighborhoods have the most listings, helping to identify areas of high competition and demand.\n",
        "\n",
        "### Conclusion\n",
        "\n",
        "By implementing these data-driven recommendations, the client can enhance their Airbnb listings' appeal, optimize pricing, and improve overall guest satisfaction. These strategies will help in achieving higher occupancy rates, increased revenue, and better market positioning in a competitive rental market."
      ],
      "metadata": {
        "id": "pASKb0qOza21"
      }
    },
    {
      "cell_type": "markdown",
      "source": [
        "# **Conclusion**"
      ],
      "metadata": {
        "id": "gCX9965dhzqZ"
      }
    },
    {
      "cell_type": "markdown",
      "source": [
        "conclusions = \"\"\"\n",
        "- Most listings fall within a certain price range.\n",
        "- Room types have a significant impact on price.\n",
        "- There is a relationship between the number of reviews per month and the price of the listing.\n",
        "- Listings are concentrated in certain neighborhoods more than others.\n",
        "- Further analysis can provide more insights into neighborhood preferences and room type preferences.\n",
        "\"\"\"\n",
        "\n",
        "print(conclusions)"
      ],
      "metadata": {
        "id": "Fjb1IsQkh3yE"
      }
    },
    {
      "cell_type": "code",
      "source": [
        "conclusions = \"\"\"\n",
        "- Most listings fall within a certain price range.\n",
        "- Room types have a significant impact on price.\n",
        "- There is a relationship between the number of reviews per month and the price of the listing.\n",
        "- Listings are concentrated in certain neighborhoods more than others.\n",
        "- Further analysis can provide more insights into neighborhood preferences and room type preferences.\n",
        "\"\"\"\n",
        "\n",
        "print(conclusions)"
      ],
      "metadata": {
        "id": "heAkSxRJecmF"
      },
      "execution_count": null,
      "outputs": []
    },
    {
      "cell_type": "markdown",
      "source": [
        "### ***Hurrah! You have successfully completed your EDA Capstone Project !!!***"
      ],
      "metadata": {
        "id": "gIfDvo9L0UH2"
      }
    },
    {
      "cell_type": "code",
      "source": [
        "# Yes, I remember the image of the fields you provided, which contained details about the variables in the Airbnb dataset. Based on those variables, we can create a variety of charts to explore and analyze the data. Here are some suggestions for different types of charts we can make:\n",
        "\n",
        "### 1. **Bar Chart**\n",
        "# - **Variable**: `room_type`\n",
        "# - **Description**: Show the count of each room type.\n",
        "# - **Code**:\n",
        "#   ```python\n",
        "\n",
        "  # plt.figure(figsize=(10, 6))\n",
        "\n",
        "  # sns.countplot(data=df, x='room_type')\n",
        "\n",
        "  # plt.title('Room Type Distribution')\n",
        "  # plt.xlabel('Room Type')\n",
        "  # plt.ylabel('Count')\n",
        "  # plt.show()\n",
        "\n",
        "\n",
        "### 2. **Pie Chart**\n",
        "# - **Variable**: `neighbourhood_group`\n",
        "# - **Description**: Show the distribution of listings across different neighborhood groups.\n",
        "# - **Code**:\n",
        "#   ```python\n",
        "\n",
        "neighbourhood_group_counts = df['neighbourhood_group'].value_counts()\n",
        "plt.figure(figsize=(10, 6))\n",
        "plt.pie(neighbourhood_group_counts, labels=neighbourhood_group_counts.index, autopct='%1.1f%%', startangle=140)\n",
        "plt.title('Distribution of Neighbourhood Groups')\n",
        "plt.show()\n",
        "\n",
        "\n",
        "### 3. **Histogram**\n",
        "# - **Variable**: `price`\n",
        "# - **Description**: Show the distribution of listing prices.\n",
        "# - **Code**:\n",
        "#   ```python\n",
        "plt.figure(figsize=(10, 6))\n",
        "sns.histplot(df['price'], bins=50, kde=True)\n",
        "plt.title('Distribution of Prices')\n",
        "plt.xlabel('Price')\n",
        "plt.ylabel('Frequency')\n",
        "plt.show()\n",
        "\n",
        "\n",
        "### 4. **Box Plot**\n",
        "# - **Variables**: `room_type`, `price`\n",
        "# - **Description**: Show the distribution of prices for each room type.\n",
        "# - **Code**:\n",
        "#   ```python\n",
        "plt.figure(figsize=(10, 6))\n",
        "sns.boxplot(data=df, x='room_type', y='price')\n",
        "plt.title('Price vs. Room Type')\n",
        "plt.xlabel('Room Type')\n",
        "plt.ylabel('Price')\n",
        "plt.show()\n",
        "\n",
        "\n",
        "### 5. **Scatter Plot**\n",
        "# - **Variables**: `reviews_per_month`, `price`\n",
        "# - **Description**: Show the relationship between reviews per month and price, colored by room type.\n",
        "# - **Code**:\n",
        "#   ```python\n",
        "plt.figure(figsize=(10, 6))\n",
        "sns.scatterplot(data=df, x='reviews_per_month', y='price', hue='room_type')\n",
        "plt.title('Reviews per Month vs. Price')\n",
        "plt.xlabel('Reviews per Month')\n",
        "plt.ylabel('Price')\n",
        "plt.show()\n",
        "\n",
        "\n",
        "### 6. **Count Plot**\n",
        "# - **Variable**: `neighbourhood_group`\n",
        "# - **Description**: Show the count of listings in each neighborhood group.\n",
        "# - **Code**:\n",
        "#   ```python\n",
        "plt.figure(figsize=(14, 8))\n",
        "sns.countplot(data=df, x='neighbourhood_group', order=df['neighbourhood_group'].value_counts().index)\n",
        "plt.title('Listings Distribution Across Neighborhoods')\n",
        "plt.xlabel('Neighborhood Group')\n",
        "plt.ylabel('Count')\n",
        "plt.xticks(rotation=90)\n",
        "plt.show()\n",
        "\n",
        "\n",
        "### 7. **Heatmap**\n",
        "# - **Variables**: All numerical variables\n",
        "# - **Description**: Show the correlation between different numerical variables.\n",
        "# - **Code**:\n",
        "#   ```python\n",
        "plt.figure(figsize=(12, 8))\n",
        "sns.heatmap(df.corr(), annot=True, cmap='coolwarm', fmt='.2f')\n",
        "plt.title('Correlation Heatmap')\n",
        "plt.show()\n",
        "\n",
        "### 8. **Pair Plot**\n",
        "# - **Variables**: All numerical variables\n",
        "# - **Description**: Show pairwise relationships in the dataset.\n",
        "# - **Code**:\n",
        "#   ```python\n",
        "sns.pairplot(df, vars=['price', 'minimum_nights', 'number_of_reviews', 'reviews_per_month', 'calculated_host_listings_count', 'availability_365'], hue='room_type')\n",
        "plt.show()\n",
        "\n",
        "\n",
        "### 9. **Geographical Map**\n",
        "# - **Variables**: `latitude`, `longitude`\n",
        "# - **Description**: Show the geographical distribution of listings.\n",
        "# - **Code**:\n",
        "#   ```python\n",
        "  # import folium\n",
        "  # from folium.plugins import MarkerCluster\n",
        "\n",
        "  # Create a base map\n",
        "  # m = folium.Map(location=[40.7128, -74.0060], zoom_start=11)\n",
        "\n",
        "  # # Add marker clusters to the map\n",
        "  # marker_cluster = MarkerCluster().add_to(m)\n",
        "\n",
        "  # Add markers to the marker cluster\n",
        "#   for index, row in df.iterrows():\n",
        "#       folium.Marker(\n",
        "#           location=[row['latitude'], row['longitude']],\n",
        "#           popup=f\"Name: {row['name']}<br>Price: ${row['price']}<br>Room Type: {row['room_type']}<br>Neighborhood: {row['neighbourhood']}\",\n",
        "#           tooltip=row['name']\n",
        "#       ).add_to(marker_cluster)\n",
        "\n",
        "#   # Save the map to an HTML file\n",
        "#   m.save('airbnb_listings_map.html')\n",
        "\n",
        "#   # Display the map in a Jupyter notebook\n",
        "#   m\n",
        "#   ```\n",
        "\n",
        "# These are some of the charts that can be created based on the provided dataset variables. Each chart helps in exploring different aspects of the data, leading to better insights and understanding of the Airbnb listings."
      ],
      "metadata": {
        "id": "L_eXRNaWq9_0"
      },
      "execution_count": null,
      "outputs": []
    },
    {
      "cell_type": "code",
      "source": [],
      "metadata": {
        "id": "9JrDL3GDsI18"
      },
      "execution_count": null,
      "outputs": []
    }
  ]
}